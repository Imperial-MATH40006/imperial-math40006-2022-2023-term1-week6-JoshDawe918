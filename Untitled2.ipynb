{
 "cells": [
  {
   "cell_type": "code",
   "execution_count": 5,
   "id": "6ad2d58c",
   "metadata": {},
   "outputs": [
    {
     "data": {
      "text/plain": [
       "'The roots of x^2 - ((3+4) x +3*4  = 0 are x = 3 and x = 4'"
      ]
     },
     "execution_count": 5,
     "metadata": {},
     "output_type": "execute_result"
    }
   ],
   "source": [
    "quad_string_a= 'The roots of x^2 - (({0}+{1}) x +{0}*{1}  = 0 are x = {0} and x = {1}'\n",
    "quad_string_a.format(3,4)\n",
    "\n",
    "\n"
   ]
  },
  {
   "cell_type": "code",
   "execution_count": 6,
   "id": "465dfa02",
   "metadata": {},
   "outputs": [
    {
     "name": "stdout",
     "output_type": "stream",
     "text": [
      "The regular solid known as the {4} has {2} {3} faces, {1} edges and {0} vertices.\n"
     ]
    }
   ],
   "source": [
    "polyhedron_template2 = 'The regular solid known as the {4} has {2} {3} faces, {1} edges and {0} vertices.'\n",
    "polyhedron_template2.format(8,12,6,'square','cube')\n",
    "print(polyhedron_template2)"
   ]
  },
  {
   "cell_type": "code",
   "execution_count": null,
   "id": "559ef300",
   "metadata": {},
   "outputs": [],
   "source": []
  },
  {
   "cell_type": "code",
   "execution_count": null,
   "id": "2592f390",
   "metadata": {},
   "outputs": [],
   "source": []
  }
 ],
 "metadata": {
  "kernelspec": {
   "display_name": "Python 3 (ipykernel)",
   "language": "python",
   "name": "python3"
  },
  "language_info": {
   "codemirror_mode": {
    "name": "ipython",
    "version": 3
   },
   "file_extension": ".py",
   "mimetype": "text/x-python",
   "name": "python",
   "nbconvert_exporter": "python",
   "pygments_lexer": "ipython3",
   "version": "3.9.13"
  }
 },
 "nbformat": 4,
 "nbformat_minor": 5
}
