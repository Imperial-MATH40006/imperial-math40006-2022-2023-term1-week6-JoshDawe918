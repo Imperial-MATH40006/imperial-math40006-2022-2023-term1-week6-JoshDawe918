{
 "cells": [
  {
   "cell_type": "code",
   "execution_count": 1,
   "id": "f31073e4",
   "metadata": {},
   "outputs": [],
   "source": [
    "list1=['one','two']"
   ]
  },
  {
   "cell_type": "code",
   "execution_count": null,
   "id": "510815f3",
   "metadata": {},
   "outputs": [],
   "source": [
    "replace()"
   ]
  }
 ],
 "metadata": {
  "kernelspec": {
   "display_name": "Python 3 (ipykernel)",
   "language": "python",
   "name": "python3"
  },
  "language_info": {
   "codemirror_mode": {
    "name": "ipython",
    "version": 3
   },
   "file_extension": ".py",
   "mimetype": "text/x-python",
   "name": "python",
   "nbconvert_exporter": "python",
   "pygments_lexer": "ipython3",
   "version": "3.9.13"
  }
 },
 "nbformat": 4,
 "nbformat_minor": 5
}
